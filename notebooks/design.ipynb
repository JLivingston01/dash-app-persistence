{
 "cells": [
  {
   "cell_type": "code",
   "execution_count": 1,
   "metadata": {},
   "outputs": [],
   "source": [
    "\n",
    "from dash import (\n",
    "    dcc,\n",
    "    html,\n",
    "    Dash,\n",
    "    Input,\n",
    "    Output,\n",
    "    State,\n",
    "    dash_table\n",
    ")\n",
    "import pandas as pd"
   ]
  },
  {
   "cell_type": "code",
   "execution_count": 2,
   "metadata": {},
   "outputs": [],
   "source": [
    "\n",
    "df = pd.DataFrame({'a':[1,2,3],\n",
    "                    'b':[4,5,6]})\n",
    "\n",
    "div = html.Div(\n",
    "    id='div',\n",
    "    children=[\n",
    "    dash_table.DataTable(\n",
    "        id='data-table',\n",
    "        data = df.to_dict('records'),\n",
    "        columns = [{\"name\": i, \"id\": i} for i in df.columns],\n",
    "        editable=True\n",
    "        )\n",
    "    ]\n",
    ")"
   ]
  },
  {
   "cell_type": "code",
   "execution_count": 7,
   "metadata": {},
   "outputs": [
    {
     "data": {
      "text/plain": [
       "Div(children=[DataTable(data=[{'a': 1, 'b': 4}, {'a': 2, 'b': 5}, {'a': 3, 'b': 6}], columns=[{'name': 'a', 'id': 'a'}, {'name': 'b', 'id': 'b'}], editable=True, id='data-table')], id='div')"
      ]
     },
     "execution_count": 7,
     "metadata": {},
     "output_type": "execute_result"
    }
   ],
   "source": [
    "div"
   ]
  },
  {
   "cell_type": "code",
   "execution_count": 4,
   "metadata": {},
   "outputs": [
    {
     "data": {
      "text/plain": [
       "{'props': {'children': [DataTable(data=[{'a': 1, 'b': 4}, {'a': 2, 'b': 5}, {'a': 3, 'b': 6}], columns=[{'name': 'a', 'id': 'a'}, {'name': 'b', 'id': 'b'}], editable=True, id='data-table')],\n",
       "  'id': 'div'},\n",
       " 'type': 'Div',\n",
       " 'namespace': 'dash_html_components'}"
      ]
     },
     "execution_count": 4,
     "metadata": {},
     "output_type": "execute_result"
    }
   ],
   "source": [
    "div.to_plotly_json()"
   ]
  },
  {
   "cell_type": "code",
   "execution_count": 5,
   "metadata": {},
   "outputs": [
    {
     "data": {
      "text/plain": [
       "{'_prop_names': ['children',\n",
       "  'id',\n",
       "  'accessKey',\n",
       "  'aria-*',\n",
       "  'className',\n",
       "  'contentEditable',\n",
       "  'contextMenu',\n",
       "  'data-*',\n",
       "  'dir',\n",
       "  'disable_n_clicks',\n",
       "  'draggable',\n",
       "  'hidden',\n",
       "  'key',\n",
       "  'lang',\n",
       "  'loading_state',\n",
       "  'n_clicks',\n",
       "  'n_clicks_timestamp',\n",
       "  'role',\n",
       "  'spellCheck',\n",
       "  'style',\n",
       "  'tabIndex',\n",
       "  'title'],\n",
       " '_valid_wildcard_attributes': ['data-', 'aria-'],\n",
       " 'available_properties': ['children',\n",
       "  'id',\n",
       "  'accessKey',\n",
       "  'aria-*',\n",
       "  'className',\n",
       "  'contentEditable',\n",
       "  'contextMenu',\n",
       "  'data-*',\n",
       "  'dir',\n",
       "  'disable_n_clicks',\n",
       "  'draggable',\n",
       "  'hidden',\n",
       "  'key',\n",
       "  'lang',\n",
       "  'loading_state',\n",
       "  'n_clicks',\n",
       "  'n_clicks_timestamp',\n",
       "  'role',\n",
       "  'spellCheck',\n",
       "  'style',\n",
       "  'tabIndex',\n",
       "  'title'],\n",
       " 'available_wildcard_properties': ['data-', 'aria-'],\n",
       " 'children': [DataTable(data=[{'a': 1, 'b': 4}, {'a': 2, 'b': 5}, {'a': 3, 'b': 6}], columns=[{'name': 'a', 'id': 'a'}, {'name': 'b', 'id': 'b'}], editable=True, id='data-table')],\n",
       " 'id': 'div'}"
      ]
     },
     "execution_count": 5,
     "metadata": {},
     "output_type": "execute_result"
    }
   ],
   "source": [
    "div.__dict__"
   ]
  },
  {
   "cell_type": "code",
   "execution_count": 6,
   "metadata": {},
   "outputs": [
    {
     "data": {
      "text/plain": [
       "Div({'_prop_names': ['children', 'id', 'accessKey', 'aria-*', 'className', 'contentEditable', 'contextMenu', 'data-*', 'dir', 'disable_n_clicks', 'draggable', 'hidden', 'key', 'lang', 'loading_state', 'n_clicks', 'n_clicks_timestamp', 'role', 'spellCheck', 'style', 'tabIndex', 'title'], '_valid_wildcard_attributes': ['data-', 'aria-'], 'available_properties': ['children', 'id', 'accessKey', 'aria-*', 'className', 'contentEditable', 'contextMenu', 'data-*', 'dir', 'disable_n_clicks', 'draggable', 'hidden', 'key', 'lang', 'loading_state', 'n_clicks', 'n_clicks_timestamp', 'role', 'spellCheck', 'style', 'tabIndex', 'title'], 'available_wildcard_properties': ['data-', 'aria-'], 'children': [DataTable(data=[{'a': 1, 'b': 4}, {'a': 2, 'b': 5}, {'a': 3, 'b': 6}], columns=[{'name': 'a', 'id': 'a'}, {'name': 'b', 'id': 'b'}], editable=True, id='data-table')], 'id': 'div'})"
      ]
     },
     "execution_count": 6,
     "metadata": {},
     "output_type": "execute_result"
    }
   ],
   "source": [
    "html.Div(div.__dict__)"
   ]
  },
  {
   "cell_type": "code",
   "execution_count": null,
   "metadata": {},
   "outputs": [],
   "source": []
  }
 ],
 "metadata": {
  "kernelspec": {
   "display_name": ".venv",
   "language": "python",
   "name": "python3"
  },
  "language_info": {
   "codemirror_mode": {
    "name": "ipython",
    "version": 3
   },
   "file_extension": ".py",
   "mimetype": "text/x-python",
   "name": "python",
   "nbconvert_exporter": "python",
   "pygments_lexer": "ipython3",
   "version": "3.11.1"
  },
  "orig_nbformat": 4
 },
 "nbformat": 4,
 "nbformat_minor": 2
}
